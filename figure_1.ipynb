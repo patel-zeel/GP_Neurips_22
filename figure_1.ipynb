{
 "cells": [
  {
   "cell_type": "code",
   "execution_count": 2,
   "metadata": {},
   "outputs": [],
   "source": [
    "from common import *\n",
    "\n",
    "os.environ[\"LATEXIFY\"] = \"\"\n",
    "os.environ[\"FIG_DIR\"] = \".\"\n",
    "os.environ[\"CUDA_VISIBLE_DEVICES\"] = \"2\""
   ]
  },
  {
   "cell_type": "code",
   "execution_count": 5,
   "metadata": {},
   "outputs": [
    {
     "name": "stdout",
     "output_type": "stream",
     "text": [
      "X (200, 1) y (200,)\n",
      "min_indices [ 89 280  -1 397 116 562 810 172 132  -1]\n",
      "individual restart losses [505.19096545 463.94862837          nan 439.15678891 460.48359921\n",
      " 442.76861082 466.80603809 441.20138721 497.68771049          nan]\n",
      "best_restart 3 best_loss 439.15678891077994\n"
     ]
    },
    {
     "data": {
      "image/png": "[encoded data removed]",
      "text/plain": [
       "<Figure size 432x288 with 1 Axes>"
      ]
     },
     "metadata": {
      "needs_background": "light"
     },
     "output_type": "display_data"
    }
   ],
   "source": [
    "%matplotlib inline\n",
    "seed = 0\n",
    "key = jax.random.PRNGKey(0)\n",
    "num_inducing = 20\n",
    "inducing_type = \"random\"\n",
    "optimizer = optax.adam(learning_rate=0.01)\n",
    "num_epochs = 1000\n",
    "num_restarts = 10\n",
    "flex_scale=True\n",
    "flex_var=True\n",
    "flex_noise=True\n",
    "\n",
    "# scale_prior = tfd.Normal(0.0, 1.0)\n",
    "scale_prior = tfb.Log()(tfd.Gamma(5.0, 1.0))\n",
    "# scale_prior = None\n",
    "\n",
    "# var_prior = tfb.Log()(tfd.HalfCauchy(0.0, 1.0))\n",
    "var_prior = tfb.Log()(tfd.Gamma(0.5, 1.0))\n",
    "# var_prior = None\n",
    "\n",
    "std_prior = tfd.Normal(0.0, 1.0)\n",
    "\n",
    "B.epsilon = 1e-6\n",
    "jnp.jitter = B.epsilon\n",
    "\n",
    "################ Motorcycle helmet data\n",
    "\n",
    "# X, y, _ = rd.MotorcycleHelmet().get_data()\n",
    "# X_test = jnp.linspace(-3, 3.5, 200).reshape(-1, 1)\n",
    "\n",
    "################ Heinonen4 data\n",
    "# X, y, _ = rd.Heinonen4().get_data()\n",
    "# X_test = jnp.linspace(-3, 3.5, 200)\n",
    "\n",
    "################ Step data\n",
    "# X, y, X_test = rd.Step().get_data()\n",
    "# X_test = X_test * 1.5\n",
    "\n",
    "################ Olympic\n",
    "# X, y, X_test = rd.Olympic().get_data()\n",
    "# X_test = X_test * 1.5\n",
    "\n",
    "################ Jump1D data\n",
    "# X, y, _ = rd.Jump1D().get_data()\n",
    "# X_test = jnp.linspace(-3, 3.5, 200)\n",
    "\n",
    "################ Smooth 1D\n",
    "# X, y, _ = rd.Smooth1D().get_data()\n",
    "# X_test = jnp.linspace(-3, 3.5, 200)\n",
    "\n",
    "################ Yarin Gal Step data \n",
    "\n",
    "# X, y = get_step_data()\n",
    "# X_test = jnp.linspace(-3, 3.5, 300)\n",
    "\n",
    "################ AG Wilson Step data\n",
    "# X, y = get_aw_step()\n",
    "# X_test = jnp.linspace(-6, 6, 500)\n",
    "\n",
    "################ Simulated data\n",
    "# X, y, true_fn, lengthscale_trend, variance_trend, noise_var_trend = get_simulated_data1()\n",
    "# X_test = jnp.linspace(-10, 10, 400)\n",
    "\n",
    "################ Synth1D\n",
    "# seeder = 3\n",
    "# print(\"seed\", seeder)\n",
    "# key = jax.random.PRNGKey(seeder)\n",
    "#     X, y, func_dict, true_fn = get_synth1d(key)\n",
    "#     X_test = X\n",
    "\n",
    "################ Tdata\n",
    "# X, y, f, varf, nvarf = Tdata()\n",
    "# X_test = jnp.linspace(-8, 8, 400)\n",
    "\n",
    "################ Heinonen data\n",
    "# X, y = get_heinonen('Dlso')\n",
    "# X_test = jnp.linspace(-0.5, 1.5, 200)\n",
    "\n",
    "################ Heinonen 2D data\n",
    "# X, y = get_heinonen_2d(n=25, seed=2)\n",
    "# X_test, y_test = get_heinonen_2d(n=40, seed=1, test=True)\n",
    "\n",
    "################ Self generated data\n",
    "key = jax.random.PRNGKey(1221)\n",
    "X, y, func_dict, true_fn = get_synth1d(key=key, n_points=200)\n",
    "X_test = jnp.linspace(-40, 40, 200).reshape(-1, 1)\n",
    "\n",
    "# X_ = X.copy()\n",
    "# y_ = y.copy()\n",
    "# X_test_ = X_test.copy()\n",
    "\n",
    "# x_scaler = StandardScaler()\n",
    "# X = x_scaler.fit_transform(X)\n",
    "# y = StandardScaler().fit_transform(y[:, None])[:, 0]\n",
    "# X_test = x_scaler.transform(X_test)\n",
    "\n",
    "\n",
    "####################################\n",
    "\n",
    "print(\"X\", X.shape, \"y\", y.shape)\n",
    "gp = get_gibbs_gp(X, flex_scale=flex_scale, flex_var=flex_var, flex_noise=flex_noise, \n",
    "                  num_inducing=num_inducing, inducing_type=inducing_type)\n",
    "loss_fn = get_loss_fn(gp, X, y, scale_prior=scale_prior, var_prior=var_prior, std_prior=std_prior)\n",
    "partial_initialize_params = jtu.Partial(initialize_params, gp=gp, X=X, scale_prior=scale_prior, var_prior=var_prior)\n",
    "keys = jax.random.split(key, num=num_restarts)\n",
    "raw_params = jax.vmap(partial_initialize_params)(key=keys)\n",
    "partial_train_fn = jtu.Partial(train_fn, loss_fn=loss_fn, optimizer=optimizer, num_epochs=num_epochs)\n",
    "\n",
    "## Optax\n",
    "result = jax.vmap(partial_train_fn)(raw_params=raw_params)\n",
    "best_result, best_raw_params = extract_results(result)\n",
    "best_params = constrain(best_raw_params, gp.get_bijectors())\n",
    "plt.figure()\n",
    "plt.plot(best_result[\"loss_history\"]);\n",
    "\n",
    "\n",
    "# Jaxopt\n",
    "#     opt = jaxopt.ScipyMinimize(fun=loss_fn, method=\"BFGS\")\n",
    "#     res = opt.run(jtu.tree_map(lambda x: x[2], raw_params))\n",
    "#     best_params = constrain(res.params, gp.get_bijectors())\n",
    "\n",
    "\n",
    "pred_mean_train, pred_cov_train = gp.predict(best_params, X, y, X)\n",
    "pred_mean, pred_cov = gp.predict(best_params, X, y, X_test)\n",
    "\n",
    "#     print(\"Train NLPD\", nlpd_fn(pred_mean_train, pred_cov_train, y))"
   ]
  },
  {
   "cell_type": "code",
   "execution_count": 6,
   "metadata": {},
   "outputs": [
    {
     "data": {
      "image/png": "[encoded data removed]",
      "text/plain": [
       "<Figure size 360x144 with 2 Axes>"
      ]
     },
     "metadata": {
      "needs_background": "light"
     },
     "output_type": "display_data"
    }
   ],
   "source": [
    "latexify(fig_width=5, fig_height=2)\n",
    "#     latexify(fig_width=10, fig_height=6)\n",
    "mpl.rcParams['lines.markersize'] = 1\n",
    "\n",
    "pred_noise = gp.noise(best_params, X_test)\n",
    "\n",
    "std2 = (jnp.diag(pred_cov) ** 0.5) * 2\n",
    "std2_epi = ((jnp.diag(pred_cov) - pred_noise) ** 0.5) * 2\n",
    "\n",
    "\n",
    "fig, axes = plt.subplots(2, 1, sharex=True)\n",
    "ax = axes[0]\n",
    "ax.scatter(X, y, label=\"Data\");\n",
    "idx = jnp.argsort(X_test.ravel())\n",
    "ax.plot(X_test.ravel()[idx], pred_mean.ravel()[idx], label=\"Pred. mean\");\n",
    "ax.fill_between(X_test.ravel()[idx], pred_mean.ravel()[idx]-std2[idx], pred_mean.ravel()[idx]+std2[idx], alpha=0.4, label=\"Total uncertainty\");\n",
    "ax.fill_between(X_test.ravel()[idx], pred_mean.ravel()[idx]-std2_epi[idx], pred_mean.ravel()[idx]+std2_epi[idx], alpha=0.4, label=\"Epistemic uncertainty\");\n",
    "# ax.legend(bbox_to_anchor=(1,1));\n",
    "# ax.set_ylim(-1.5, 3.8)\n",
    "\n",
    "ax = axes[1]\n",
    "if flex_noise:\n",
    "    ax.plot(X_test, pred_noise, label=r\"$\\omega(x)$\", color='g')\n",
    "    ax.plot(X_test, func_dict['noise'](X_test), '--', color='g')\n",
    "if flex_scale:\n",
    "    ax.plot(X_test, gp.kernel.predict_scale(best_params, X_test).ravel(), label=r\"$\\ell(x)$\", color='b')\n",
    "    ax.plot(X_test, func_dict['scale'](X_test), '--', color='b')\n",
    "if flex_var:\n",
    "    ax.plot(X_test, gp.kernel.predict_var(best_params, X_test).ravel(), label=r\"$\\sigma(x)$\", color='r')\n",
    "    ax.plot(X_test, func_dict['var'](X_test), '--', color='r')\n",
    "#     ax.plot(X_test, varf(X_test), label='True var')\n",
    "ax.legend(bbox_to_anchor=(1,1));\n"
   ]
  }
 ],
 "metadata": {
  "kernelspec": {
   "display_name": "Python 3.9.12 ('jax_gpu')",
   "language": "python",
   "name": "python3"
  },
  "language_info": {
   "codemirror_mode": {
    "name": "ipython",
    "version": 3
   },
   "file_extension": ".py",
   "mimetype": "text/x-python",
   "name": "python",
   "nbconvert_exporter": "python",
   "pygments_lexer": "ipython3",
   "version": "3.9.12"
  },
  "orig_nbformat": 4,
  "vscode": {
   "interpreter": {
    "hash": "9052b22ca390d445be546c3044ec1d5126a8aeba9d3c8f88b3439e2169c91513"
   }
  }
 },
 "nbformat": 4,
 "nbformat_minor": 2
}
