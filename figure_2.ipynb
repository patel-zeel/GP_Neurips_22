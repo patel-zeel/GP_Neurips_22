{
 "cells": [
  {
   "cell_type": "code",
   "execution_count": 2,
   "metadata": {},
   "outputs": [
    {
     "name": "stdout",
     "output_type": "stream",
     "text": [
      "imported sthenogpax version\n"
     ]
    },
    {
     "name": "stderr",
     "output_type": "stream",
     "text": [
      "/home/patel_zeel/miniconda3/envs/jax_gpu/lib/python3.9/site-packages/pkg_resources/__init__.py:122: PkgResourcesDeprecationWarning: LOCAL is an invalid version and will not be supported in a future release\n",
      "  warnings.warn(\n",
      "/home/patel_zeel/miniconda3/envs/jax_gpu/lib/python3.9/site-packages/pkg_resources/_vendor/packaging/version.py:111: DeprecationWarning: Creating a LegacyVersion has been deprecated and will be removed in the next major release\n",
      "  warnings.warn(\n"
     ]
    }
   ],
   "source": [
    "from common import *\n",
    "\n",
    "os.environ[\"LATEXIFY\"] = \"\"\n",
    "os.environ[\"FIG_DIR\"] = \".\"\n",
    "os.environ[\"CUDA_VISIBLE_DEVICES\"] = \"2\""
   ]
  },
  {
   "cell_type": "code",
   "execution_count": 9,
   "metadata": {},
   "outputs": [
    {
     "name": "stdout",
     "output_type": "stream",
     "text": [
      "saving image to ./true_f_al_latexified.pdf\n",
      "Figure size: [3.  1.5]\n"
     ]
    },
    {
     "data": {
      "image/png": "[encoded data removed]",
      "text/plain": [
       "<Figure size 216x108 with 1 Axes>"
      ]
     },
     "metadata": {
      "needs_background": "light"
     },
     "output_type": "display_data"
    }
   ],
   "source": [
    "key = jax.random.PRNGKey(0)\n",
    "num_inducing = 20\n",
    "inducing_type = \"random\"\n",
    "optimizer = optax.adam(learning_rate=0.01)\n",
    "num_epochs = 1000\n",
    "num_restarts = 10\n",
    "flex_scale=True\n",
    "flex_var=True\n",
    "flex_noise=True\n",
    "use_epistemic = False\n",
    "n_initial = 30\n",
    "n_selections = 50\n",
    "\n",
    "scale_prior = tfb.Log()(tfd.Gamma(5.0, 1.0))\n",
    "var_prior = tfb.Log()(tfd.Gamma(0.5, 1.0))\n",
    "# var_prior = tfb.Log()(tfd.HalfCauchy(0.0, 1.0))\n",
    "std_prior = tfd.Normal(0.0, 1.0)\n",
    "\n",
    "B.epsilon = 1e-2\n",
    "\n",
    "################ Simulated data\n",
    "# X, y, true_f, lengthscale_trend, variance_trend, noise_var_trend = get_simulated_data1()\n",
    "# X_test = jnp.linspace(-10, 10, 400).reshape(-1,1)\n",
    "\n",
    "################\n",
    "\n",
    "key = jax.random.PRNGKey(1221)\n",
    "X, y, func_dict, true_f = get_synth1d(key=key, n_points=200)\n",
    "X_test = X\n",
    "\n",
    "\n",
    "def one_step(X, y, X_pool, train_bool=True, best_result_prev=None, best_params_prev=None):\n",
    "    gp = get_gibbs_gp(X, flex_scale=flex_scale, flex_var=flex_var, flex_noise=flex_noise, \n",
    "                      num_inducing=min(X.shape[0], num_inducing), inducing_type=inducing_type)\n",
    "\n",
    "    gp.kernel.active_dims = [0]\n",
    "    if train_bool:\n",
    "        loss_fn = get_loss_fn(gp, X, y, scale_prior=scale_prior, var_prior=var_prior, std_prior=std_prior)\n",
    "        partial_initialize_params = jtu.Partial(initialize_params, gp=gp, X=X, scale_prior=scale_prior, var_prior=var_prior)\n",
    "        keys = jax.random.split(key, num=num_restarts)\n",
    "        raw_params = jax.vmap(partial_initialize_params)(key=keys)\n",
    "        partial_train_fn = jtu.Partial(train_fn, loss_fn=loss_fn, optimizer=optimizer, num_epochs=num_epochs)\n",
    "        result = jax.vmap(partial_train_fn)(raw_params=raw_params)\n",
    "        best_result, best_raw_params = extract_results(result)\n",
    "        best_params = constrain(best_raw_params, gp.get_bijectors())\n",
    "    else:\n",
    "        best_result = best_result_prev\n",
    "        best_params = best_params_prev\n",
    "    pred_mean, pred_cov = gp.predict(best_params, X, y, X_pool)\n",
    "    return pred_mean, pred_cov, gp, best_params, best_result\n",
    "\n",
    "X_train, X_pool, y_train, y_pool = train_test_split(X, y, random_state=3, train_size=n_initial)\n",
    "# pred_mean, pred_cov, gp, best_params, best_result = one_step(X_train, y_train, X)\n",
    "# plt.plot(best_result['loss_history']);\n",
    "X.shape\n",
    "(200, 1)\n",
    "latexify(fig_width=3, fig_height=1.5)\n",
    "fig, ax = plt.subplots()\n",
    "ax.plot(X, true_f, '-', color='k', label=r'$f^*$', linewidth=1);\n",
    "true_sd2 = 2*(func_dict['noise'](X)**0.5)\n",
    "ax.scatter(X, y, marker='.', color='k', s=5);\n",
    "ax.plot(X, true_f.ravel()-true_sd2.ravel(), '--', color='k', label=r\"$f^* \\pm 2w(x)$\")\n",
    "ax.plot(X, true_f.ravel()+true_sd2.ravel(), '--', color='k');\n",
    "ax.set_ylim(-11,8)\n",
    "# ax.plot(X, pred_mean, color='b');\n",
    "# sd2 = 2 * (jnp.diag(pred_cov)**0.5)\n",
    "# ax.fill_between(X.ravel(), pred_mean.ravel()-sd2, pred_mean.ravel()+sd2, alpha=0.4);\n",
    "ax.legend(frameon=False, loc=(0.165, 0.02))\n",
    "savefig('true_f_al')"
   ]
  },
  {
   "cell_type": "code",
   "execution_count": 10,
   "metadata": {},
   "outputs": [
    {
     "name": "stdout",
     "output_type": "stream",
     "text": [
      "(170, 1) (170,) (30, 1) (30,)\n"
     ]
    },
    {
     "name": "stderr",
     "output_type": "stream",
     "text": [
      "  0%|          | 0/50 [00:00<?, ?it/s]"
     ]
    },
    {
     "name": "stdout",
     "output_type": "stream",
     "text": [
      "min_indices [597 414 507 465 322 605 977 237 999  -1]\n",
      "individual restart losses [117.90224609 120.52741821 115.1858201  117.65938743 117.25155107\n",
      " 117.12359336 116.58703815 117.12416152 120.40586306          nan]\n",
      "best_restart 2 best_loss 115.18582009830564\n"
     ]
    },
    {
     "name": "stderr",
     "output_type": "stream",
     "text": [
      "  2%|▏         | 1/50 [00:18<15:19, 18.76s/it]"
     ]
    },
    {
     "name": "stdout",
     "output_type": "stream",
     "text": [
      "al_ind 168\n",
      "(169, 1) (169,) (31, 1) (31,)\n"
     ]
    },
    {
     "name": "stderr",
     "output_type": "stream",
     "text": [
      "  4%|▍         | 2/50 [00:27<10:13, 12.78s/it]"
     ]
    },
    {
     "name": "stdout",
     "output_type": "stream",
     "text": [
      "al_ind 66\n",
      "(168, 1) (168,) (32, 1) (32,)\n"
     ]
    },
    {
     "name": "stderr",
     "output_type": "stream",
     "text": [
      "  6%|▌         | 3/50 [00:34<07:54, 10.10s/it]"
     ]
    },
    {
     "name": "stdout",
     "output_type": "stream",
     "text": [
      "al_ind 163\n",
      "(167, 1) (167,) (33, 1) (33,)\n"
     ]
    },
    {
     "name": "stderr",
     "output_type": "stream",
     "text": [
      "  8%|▊         | 4/50 [00:42<07:09,  9.33s/it]"
     ]
    },
    {
     "name": "stdout",
     "output_type": "stream",
     "text": [
      "al_ind 58\n",
      "(166, 1) (166,) (34, 1) (34,)\n"
     ]
    },
    {
     "name": "stderr",
     "output_type": "stream",
     "text": [
      " 10%|█         | 5/50 [00:49<06:20,  8.45s/it]"
     ]
    },
    {
     "name": "stdout",
     "output_type": "stream",
     "text": [
      "al_ind 161\n",
      "(165, 1) (165,) (35, 1) (35,)\n"
     ]
    },
    {
     "name": "stderr",
     "output_type": "stream",
     "text": [
      " 12%|█▏        | 6/50 [00:56<05:46,  7.86s/it]"
     ]
    },
    {
     "name": "stdout",
     "output_type": "stream",
     "text": [
      "al_ind 41\n",
      "(164, 1) (164,) (36, 1) (36,)\n"
     ]
    },
    {
     "name": "stderr",
     "output_type": "stream",
     "text": [
      " 14%|█▍        | 7/50 [01:02<05:20,  7.45s/it]"
     ]
    },
    {
     "name": "stdout",
     "output_type": "stream",
     "text": [
      "al_ind 151\n",
      "(163, 1) (163,) (37, 1) (37,)\n"
     ]
    },
    {
     "name": "stderr",
     "output_type": "stream",
     "text": [
      " 16%|█▌        | 8/50 [01:10<05:13,  7.45s/it]"
     ]
    },
    {
     "name": "stdout",
     "output_type": "stream",
     "text": [
      "al_ind 59\n",
      "(162, 1) (162,) (38, 1) (38,)\n",
      "al_ind 35\n"
     ]
    },
    {
     "name": "stderr",
     "output_type": "stream",
     "text": [
      " 18%|█▊        | 9/50 [01:17<04:59,  7.30s/it]"
     ]
    },
    {
     "name": "stdout",
     "output_type": "stream",
     "text": [
      "(161, 1) (161,) (39, 1) (39,)\n",
      "al_ind 143\n"
     ]
    },
    {
     "name": "stderr",
     "output_type": "stream",
     "text": [
      " 20%|██        | 10/50 [01:23<04:46,  7.17s/it]"
     ]
    },
    {
     "name": "stdout",
     "output_type": "stream",
     "text": [
      "(160, 1) (160,) (40, 1) (40,)\n",
      "al_ind 43\n"
     ]
    },
    {
     "name": "stderr",
     "output_type": "stream",
     "text": [
      " 22%|██▏       | 11/50 [01:30<04:36,  7.10s/it]"
     ]
    },
    {
     "name": "stdout",
     "output_type": "stream",
     "text": [
      "(159, 1) (159,) (41, 1) (41,)\n",
      "al_ind 78\n"
     ]
    },
    {
     "name": "stderr",
     "output_type": "stream",
     "text": [
      " 24%|██▍       | 12/50 [01:37<04:22,  6.91s/it]"
     ]
    },
    {
     "name": "stdout",
     "output_type": "stream",
     "text": [
      "(158, 1) (158,) (42, 1) (42,)\n",
      "al_ind 67\n"
     ]
    },
    {
     "name": "stderr",
     "output_type": "stream",
     "text": [
      " 26%|██▌       | 13/50 [01:43<04:10,  6.77s/it]"
     ]
    },
    {
     "name": "stdout",
     "output_type": "stream",
     "text": [
      "(157, 1) (157,) (43, 1) (43,)\n",
      "al_ind 95\n"
     ]
    },
    {
     "name": "stderr",
     "output_type": "stream",
     "text": [
      " 28%|██▊       | 14/50 [01:51<04:11,  6.97s/it]"
     ]
    },
    {
     "name": "stdout",
     "output_type": "stream",
     "text": [
      "(156, 1) (156,) (44, 1) (44,)\n",
      "al_ind 28\n"
     ]
    },
    {
     "name": "stderr",
     "output_type": "stream",
     "text": [
      " 30%|███       | 15/50 [01:58<04:03,  6.95s/it]"
     ]
    },
    {
     "name": "stdout",
     "output_type": "stream",
     "text": [
      "(155, 1) (155,) (45, 1) (45,)\n",
      "al_ind 109\n"
     ]
    },
    {
     "name": "stderr",
     "output_type": "stream",
     "text": [
      " 32%|███▏      | 16/50 [02:07<04:18,  7.61s/it]"
     ]
    },
    {
     "name": "stdout",
     "output_type": "stream",
     "text": [
      "(154, 1) (154,) (46, 1) (46,)\n",
      "al_ind 148\n"
     ]
    },
    {
     "name": "stderr",
     "output_type": "stream",
     "text": [
      " 34%|███▍      | 17/50 [02:13<04:01,  7.31s/it]"
     ]
    },
    {
     "name": "stdout",
     "output_type": "stream",
     "text": [
      "(153, 1) (153,) (47, 1) (47,)\n",
      "al_ind 64\n"
     ]
    },
    {
     "name": "stderr",
     "output_type": "stream",
     "text": [
      " 36%|███▌      | 18/50 [02:21<03:56,  7.40s/it]"
     ]
    },
    {
     "name": "stdout",
     "output_type": "stream",
     "text": [
      "(152, 1) (152,) (48, 1) (48,)\n",
      "al_ind 40\n"
     ]
    },
    {
     "name": "stderr",
     "output_type": "stream",
     "text": [
      " 38%|███▊      | 19/50 [02:28<03:44,  7.25s/it]"
     ]
    },
    {
     "name": "stdout",
     "output_type": "stream",
     "text": [
      "(151, 1) (151,) (49, 1) (49,)\n",
      "al_ind 49\n"
     ]
    },
    {
     "name": "stderr",
     "output_type": "stream",
     "text": [
      " 40%|████      | 20/50 [02:35<03:34,  7.15s/it]"
     ]
    },
    {
     "name": "stdout",
     "output_type": "stream",
     "text": [
      "(150, 1) (150,) (50, 1) (50,)\n",
      "al_ind 63\n"
     ]
    },
    {
     "name": "stderr",
     "output_type": "stream",
     "text": [
      " 42%|████▏     | 21/50 [02:42<03:30,  7.24s/it]"
     ]
    },
    {
     "name": "stdout",
     "output_type": "stream",
     "text": [
      "(149, 1) (149,) (51, 1) (51,)\n",
      "al_ind 62\n"
     ]
    },
    {
     "name": "stderr",
     "output_type": "stream",
     "text": [
      " 44%|████▍     | 22/50 [02:49<03:20,  7.15s/it]"
     ]
    },
    {
     "name": "stdout",
     "output_type": "stream",
     "text": [
      "(148, 1) (148,) (52, 1) (52,)\n",
      "al_ind 133\n"
     ]
    },
    {
     "name": "stderr",
     "output_type": "stream",
     "text": [
      " 46%|████▌     | 23/50 [02:56<03:11,  7.08s/it]"
     ]
    },
    {
     "name": "stdout",
     "output_type": "stream",
     "text": [
      "(147, 1) (147,) (53, 1) (53,)\n",
      "al_ind 92\n"
     ]
    },
    {
     "name": "stderr",
     "output_type": "stream",
     "text": [
      " 48%|████▊     | 24/50 [03:03<03:01,  6.96s/it]"
     ]
    },
    {
     "name": "stdout",
     "output_type": "stream",
     "text": [
      "(146, 1) (146,) (54, 1) (54,)\n",
      "al_ind 51\n"
     ]
    },
    {
     "name": "stderr",
     "output_type": "stream",
     "text": [
      " 50%|█████     | 25/50 [03:09<02:50,  6.80s/it]"
     ]
    },
    {
     "name": "stdout",
     "output_type": "stream",
     "text": [
      "(145, 1) (145,) (55, 1) (55,)\n",
      "al_ind 95\n"
     ]
    },
    {
     "name": "stderr",
     "output_type": "stream",
     "text": [
      " 52%|█████▏    | 26/50 [03:16<02:40,  6.70s/it]"
     ]
    },
    {
     "name": "stdout",
     "output_type": "stream",
     "text": [
      "(144, 1) (144,) (56, 1) (56,)\n",
      "al_ind 69\n"
     ]
    },
    {
     "name": "stderr",
     "output_type": "stream",
     "text": [
      " 54%|█████▍    | 27/50 [03:22<02:32,  6.62s/it]"
     ]
    },
    {
     "name": "stdout",
     "output_type": "stream",
     "text": [
      "(143, 1) (143,) (57, 1) (57,)\n",
      "al_ind 115\n"
     ]
    },
    {
     "name": "stderr",
     "output_type": "stream",
     "text": [
      " 56%|█████▌    | 28/50 [03:29<02:24,  6.57s/it]"
     ]
    },
    {
     "name": "stdout",
     "output_type": "stream",
     "text": [
      "(142, 1) (142,) (58, 1) (58,)\n",
      "al_ind 9\n"
     ]
    },
    {
     "name": "stderr",
     "output_type": "stream",
     "text": [
      " 58%|█████▊    | 29/50 [03:36<02:24,  6.90s/it]"
     ]
    },
    {
     "name": "stdout",
     "output_type": "stream",
     "text": [
      "(141, 1) (141,) (59, 1) (59,)\n",
      "al_ind 123\n"
     ]
    },
    {
     "name": "stderr",
     "output_type": "stream",
     "text": [
      " 60%|██████    | 30/50 [03:43<02:17,  6.89s/it]"
     ]
    },
    {
     "name": "stdout",
     "output_type": "stream",
     "text": [
      "(140, 1) (140,) (60, 1) (60,)\n",
      "al_ind 28\n"
     ]
    },
    {
     "name": "stderr",
     "output_type": "stream",
     "text": [
      " 62%|██████▏   | 31/50 [03:50<02:11,  6.91s/it]"
     ]
    },
    {
     "name": "stdout",
     "output_type": "stream",
     "text": [
      "(139, 1) (139,) (61, 1) (61,)\n",
      "al_ind 44\n"
     ]
    },
    {
     "name": "stderr",
     "output_type": "stream",
     "text": [
      " 64%|██████▍   | 32/50 [03:57<02:03,  6.84s/it]"
     ]
    },
    {
     "name": "stdout",
     "output_type": "stream",
     "text": [
      "(138, 1) (138,) (62, 1) (62,)\n",
      "al_ind 46\n"
     ]
    },
    {
     "name": "stderr",
     "output_type": "stream",
     "text": [
      " 66%|██████▌   | 33/50 [04:04<01:58,  6.95s/it]"
     ]
    },
    {
     "name": "stdout",
     "output_type": "stream",
     "text": [
      "(137, 1) (137,) (63, 1) (63,)\n",
      "al_ind 39\n"
     ]
    },
    {
     "name": "stderr",
     "output_type": "stream",
     "text": [
      " 68%|██████▊   | 34/50 [04:11<01:50,  6.94s/it]"
     ]
    },
    {
     "name": "stdout",
     "output_type": "stream",
     "text": [
      "(136, 1) (136,) (64, 1) (64,)\n",
      "al_ind 116\n"
     ]
    },
    {
     "name": "stderr",
     "output_type": "stream",
     "text": [
      " 70%|███████   | 35/50 [04:18<01:42,  6.85s/it]"
     ]
    },
    {
     "name": "stdout",
     "output_type": "stream",
     "text": [
      "(135, 1) (135,) (65, 1) (65,)\n",
      "al_ind 26\n"
     ]
    },
    {
     "name": "stderr",
     "output_type": "stream",
     "text": [
      " 72%|███████▏  | 36/50 [04:24<01:36,  6.87s/it]"
     ]
    },
    {
     "name": "stdout",
     "output_type": "stream",
     "text": [
      "(134, 1) (134,) (66, 1) (66,)\n",
      "al_ind 81\n"
     ]
    },
    {
     "name": "stderr",
     "output_type": "stream",
     "text": [
      " 74%|███████▍  | 37/50 [04:32<01:31,  7.04s/it]"
     ]
    },
    {
     "name": "stdout",
     "output_type": "stream",
     "text": [
      "(133, 1) (133,) (67, 1) (67,)\n",
      "al_ind 110\n"
     ]
    },
    {
     "name": "stderr",
     "output_type": "stream",
     "text": [
      " 76%|███████▌  | 38/50 [04:39<01:24,  7.01s/it]"
     ]
    },
    {
     "name": "stdout",
     "output_type": "stream",
     "text": [
      "(132, 1) (132,) (68, 1) (68,)\n",
      "al_ind 72\n"
     ]
    },
    {
     "name": "stderr",
     "output_type": "stream",
     "text": [
      " 78%|███████▊  | 39/50 [04:46<01:16,  6.98s/it]"
     ]
    },
    {
     "name": "stdout",
     "output_type": "stream",
     "text": [
      "(131, 1) (131,) (69, 1) (69,)\n",
      "al_ind 71\n"
     ]
    },
    {
     "name": "stderr",
     "output_type": "stream",
     "text": [
      " 80%|████████  | 40/50 [04:53<01:09,  6.96s/it]"
     ]
    },
    {
     "name": "stdout",
     "output_type": "stream",
     "text": [
      "(130, 1) (130,) (70, 1) (70,)\n",
      "al_ind 111\n"
     ]
    },
    {
     "name": "stderr",
     "output_type": "stream",
     "text": [
      " 82%|████████▏ | 41/50 [05:00<01:03,  7.05s/it]"
     ]
    },
    {
     "name": "stdout",
     "output_type": "stream",
     "text": [
      "(129, 1) (129,) (71, 1) (71,)\n",
      "al_ind 121\n"
     ]
    },
    {
     "name": "stderr",
     "output_type": "stream",
     "text": [
      " 84%|████████▍ | 42/50 [05:07<00:56,  7.07s/it]"
     ]
    },
    {
     "name": "stdout",
     "output_type": "stream",
     "text": [
      "(128, 1) (128,) (72, 1) (72,)\n",
      "al_ind 46\n"
     ]
    },
    {
     "name": "stderr",
     "output_type": "stream",
     "text": [
      " 86%|████████▌ | 43/50 [05:14<00:49,  7.02s/it]"
     ]
    },
    {
     "name": "stdout",
     "output_type": "stream",
     "text": [
      "(127, 1) (127,) (73, 1) (73,)\n",
      "al_ind 118\n"
     ]
    },
    {
     "name": "stderr",
     "output_type": "stream",
     "text": [
      " 88%|████████▊ | 44/50 [05:21<00:41,  6.92s/it]"
     ]
    },
    {
     "name": "stdout",
     "output_type": "stream",
     "text": [
      "(126, 1) (126,) (74, 1) (74,)\n",
      "al_ind 87\n"
     ]
    },
    {
     "name": "stderr",
     "output_type": "stream",
     "text": [
      " 90%|█████████ | 45/50 [05:28<00:35,  7.00s/it]"
     ]
    },
    {
     "name": "stdout",
     "output_type": "stream",
     "text": [
      "(125, 1) (125,) (75, 1) (75,)\n",
      "al_ind 15\n"
     ]
    },
    {
     "name": "stderr",
     "output_type": "stream",
     "text": [
      " 92%|█████████▏| 46/50 [05:35<00:27,  6.97s/it]"
     ]
    },
    {
     "name": "stdout",
     "output_type": "stream",
     "text": [
      "(124, 1) (124,) (76, 1) (76,)\n",
      "al_ind 113\n"
     ]
    },
    {
     "name": "stderr",
     "output_type": "stream",
     "text": [
      " 94%|█████████▍| 47/50 [05:42<00:20,  6.97s/it]"
     ]
    },
    {
     "name": "stdout",
     "output_type": "stream",
     "text": [
      "(123, 1) (123,) (77, 1) (77,)\n",
      "al_ind 96\n"
     ]
    },
    {
     "name": "stderr",
     "output_type": "stream",
     "text": [
      " 96%|█████████▌| 48/50 [05:48<00:13,  6.87s/it]"
     ]
    },
    {
     "name": "stdout",
     "output_type": "stream",
     "text": [
      "(122, 1) (122,) (78, 1) (78,)\n",
      "al_ind 12\n"
     ]
    },
    {
     "name": "stderr",
     "output_type": "stream",
     "text": [
      " 98%|█████████▊| 49/50 [05:56<00:07,  7.04s/it]"
     ]
    },
    {
     "name": "stdout",
     "output_type": "stream",
     "text": [
      "(121, 1) (121,) (79, 1) (79,)\n"
     ]
    },
    {
     "name": "stderr",
     "output_type": "stream",
     "text": [
      "100%|██████████| 50/50 [06:02<00:00,  7.26s/it]"
     ]
    },
    {
     "name": "stdout",
     "output_type": "stream",
     "text": [
      "al_ind 114\n",
      "(120, 1) (120,) (80, 1) (80,)\n",
      "Finished in 6.049489537874858 minutes\n"
     ]
    },
    {
     "name": "stderr",
     "output_type": "stream",
     "text": [
      "\n"
     ]
    }
   ],
   "source": [
    "print(X_pool.shape, y_pool.shape, X_train.shape, y_train.shape)\n",
    "X_select = []\n",
    "y_select = []\n",
    "epi_var = []\n",
    "pred_means = []\n",
    "\n",
    "init = time()\n",
    "for i in trange(n_selections):\n",
    "    train_bool = True if i == 0 else False\n",
    "    if train_bool:\n",
    "        pred_mean, pred_cov, gp, best_params, best_result = one_step(\n",
    "            X_train, y_train, X_pool, train_bool=train_bool\n",
    "        )\n",
    "    else:\n",
    "        pred_mean, pred_cov, gp, best_params, best_result = one_step(\n",
    "            X_train,\n",
    "            y_train,\n",
    "            X_pool,\n",
    "            train_bool=train_bool,\n",
    "            best_params_prev=best_params,\n",
    "            best_result_prev=best_result,\n",
    "        )\n",
    "    if flex_noise is False:\n",
    "        al_var = jnp.diag(pred_cov)\n",
    "    else:\n",
    "        if use_epistemic:\n",
    "            al_var = jnp.diag(pred_cov) - gp.noise(best_params, X_pool).ravel()\n",
    "        else:\n",
    "            al_var = jnp.diag(pred_cov)\n",
    "\n",
    "    pred_means.append(gp.predict(best_params, X_train, y_train, X, return_cov=False))\n",
    "    epi_var.append(jnp.diag(gp.predict(best_params, X_train, y_train, X_test)[1]))\n",
    "    al_ind = jnp.argmax(al_var)\n",
    "    print(\"al_ind\", al_ind)\n",
    "    X_selected = X_pool[al_ind]\n",
    "    y_selected = y_pool[al_ind]\n",
    "    X_select.append(X_selected)\n",
    "    y_select.append(y_selected)\n",
    "    X_train = jnp.concatenate([X_train, X_selected.reshape(1, 1)])\n",
    "    y_train = jnp.concatenate(\n",
    "        [\n",
    "            y_train,\n",
    "            y_selected.reshape(\n",
    "                1,\n",
    "            ),\n",
    "        ]\n",
    "    )\n",
    "\n",
    "    #     print(X_pool.shape, y_pool.shape, X_train.shape, y_train.shape)\n",
    "    X_pool = jnp.delete(X_pool, al_ind, axis=0)\n",
    "    y_pool = jnp.delete(y_pool, al_ind, axis=0)\n",
    "    print(X_pool.shape, y_pool.shape, X_train.shape, y_train.shape)\n",
    "print(\"Finished in\", (time() - init) / 60, \"minutes\")\n"
   ]
  },
  {
   "cell_type": "code",
   "execution_count": 11,
   "metadata": {},
   "outputs": [
    {
     "name": "stdout",
     "output_type": "stream",
     "text": [
      "min_indices [462 533  -1 429 122 605 358 302 879  -1]\n",
      "individual restart losses [208.97557379 213.30365099          nan 211.15984279 221.66239291\n",
      " 210.3545835  225.14601471 205.44924978 229.91299218          nan]\n",
      "best_restart 7 best_loss 205.44924978113568\n",
      "saving image to ./use_epistemic=False_flex_scale=True_flex_var=True_flex_scale=True_new_latexified.pdf\n",
      "Figure size: [3.  1.5]\n"
     ]
    },
    {
     "data": {
      "image/png": "[encoded data removed]",
      "text/plain": [
       "<Figure size 216x108 with 1 Axes>"
      ]
     },
     "metadata": {
      "needs_background": "light"
     },
     "output_type": "display_data"
    }
   ],
   "source": [
    "pred_mean, pred_cov, gp, best_params, best_result = one_step(X_train, y_train, X, train_bool=True)\n",
    "latexify(fig_width=3, fig_height=1.5)\n",
    "fig, ax = plt.subplots()\n",
    "\n",
    "# ax.plot(X, true_f, color='k');\n",
    "true_sd2 = 2*(func_dict['noise'](X)**0.5)\n",
    "sd2 = 2 * (jnp.diag(pred_cov)**0.5)\n",
    "sd2_epi = 2 * ((jnp.diag(pred_cov) - gp.noise(best_params, X))**0.5)\n",
    "\n",
    "ax.scatter(X_train, y_train, marker='x', s=40);\n",
    "ax.plot(X.ravel(), true_f.ravel()-true_sd2.ravel(), '--', color='k')\n",
    "ax.plot(X, true_f.ravel()+true_sd2.ravel(), '--', color='k')\n",
    "ax.fill_between(X.ravel(), pred_mean.ravel()-sd2, pred_mean.ravel()+sd2, alpha=0.4);\n",
    "ax.fill_between(X.ravel(), pred_mean.ravel()-sd2_epi, pred_mean.ravel()+sd2_epi, alpha=0.4);\n",
    "\n",
    "ax.plot(X, pred_mean, color='b');\n",
    "# ax.legend();\n",
    "savefig(f\"{use_epistemic=}_{flex_scale=}_{flex_var=}_{flex_scale=}_new\")"
   ]
  },
  {
   "cell_type": "code",
   "execution_count": 12,
   "metadata": {},
   "outputs": [
    {
     "name": "stdout",
     "output_type": "stream",
     "text": [
      "saving image to ./f_compare_latexified.pdf\n",
      "Figure size: [3.  1.5]\n"
     ]
    },
    {
     "data": {
      "image/png": "[encoded data removed]",
      "text/plain": [
       "<Figure size 216x108 with 1 Axes>"
      ]
     },
     "metadata": {
      "needs_background": "light"
     },
     "output_type": "display_data"
    }
   ],
   "source": [
    "latexify(fig_width=3, fig_height=1.5)\n",
    "if use_epistemic:\n",
    "    epi_errors = jtu.tree_map(lambda pred_mean: jnp.abs(pred_mean.ravel()-true_f.ravel()).mean(), pred_means, is_leaf=lambda x: isinstance(x, tuple))\n",
    "else:\n",
    "    no_epi_errors = jtu.tree_map(lambda pred_mean: jnp.abs(pred_mean.ravel()-true_f.ravel()).mean(), pred_means, is_leaf=lambda x: isinstance(x, tuple))\n",
    "# plt.plot(epi_errors, label='epi')\n",
    "plt.plot(no_epi_errors, label=r'var$(y(x))$')\n",
    "plt.plot(epi_errors, '--', label=r'var$(f(x))$')\n",
    "plt.xlabel(\"Active learning iterations\")\n",
    "plt.ylabel(\"MAE$(f, f^*)$\")\n",
    "plt.legend();\n",
    "savefig(\"f_compare\")"
   ]
  }
 ],
 "metadata": {
  "kernelspec": {
   "display_name": "Python 3.9.12 ('jax_gpu')",
   "language": "python",
   "name": "python3"
  },
  "language_info": {
   "codemirror_mode": {
    "name": "ipython",
    "version": 3
   },
   "file_extension": ".py",
   "mimetype": "text/x-python",
   "name": "python",
   "nbconvert_exporter": "python",
   "pygments_lexer": "ipython3",
   "version": "3.9.12"
  },
  "orig_nbformat": 4,
  "vscode": {
   "interpreter": {
    "hash": "9052b22ca390d445be546c3044ec1d5126a8aeba9d3c8f88b3439e2169c91513"
   }
  }
 },
 "nbformat": 4,
 "nbformat_minor": 2
}
