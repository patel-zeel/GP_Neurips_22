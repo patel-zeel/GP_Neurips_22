{
 "cells": [
  {
   "cell_type": "code",
   "execution_count": 1,
   "metadata": {},
   "outputs": [],
   "source": [
    "from time import time\n",
    "import sys\n",
    "import os\n",
    "\n",
    "os.environ[\"CUDA_VISIBLE_DEVICES\"] = \"3\"\n",
    "\n",
    "import jax\n",
    "import jax.tree_util as jtu\n",
    "import jax.numpy as jnp\n",
    "\n",
    "import pandas as pd\n",
    "\n",
    "from functools import partial\n",
    "\n",
    "import matplotlib.pyplot as plt\n",
    "\n",
    "import optax\n",
    "\n",
    "from base import loss_fn, predict_fn, get_params\n",
    "from utils import train_fn, latexify\n",
    "from data import generate_heinonen_gp_data\n",
    "\n",
    "jax.config.update(\"jax_enable_x64\", True)\n",
    "\n",
    "%reload_ext watermark"
   ]
  },
  {
   "cell_type": "markdown",
   "metadata": {},
   "source": [
    "# Config"
   ]
  },
  {
   "cell_type": "code",
   "execution_count": 2,
   "metadata": {},
   "outputs": [],
   "source": [
    "gen_flex_dict = {\"ell\": 1, \"sigma\": 1, \"omega\": 1}\n",
    "model_flex_dict = {\"ell\": 1, \"sigma\": 1, \"omega\": 1}\n",
    "latent_seed = 200\n",
    "latent_key = jax.random.PRNGKey(latent_seed)\n",
    "data_seed = 300\n",
    "data_key = jax.random.PRNGKey(data_seed)\n",
    "default_params = False\n",
    "n_points_list = [200, 400, 600, 800, 1000]"
   ]
  },
  {
   "cell_type": "markdown",
   "metadata": {},
   "source": [
    "# Run"
   ]
  },
  {
   "cell_type": "code",
   "execution_count": 3,
   "metadata": {},
   "outputs": [
    {
     "name": "stdout",
     "output_type": "stream",
     "text": [
      "200_heinonen train: 20.19\n",
      "200_heinonen pred: 3.75\n",
      "200_delta_inducing train: 13.08\n",
      "200_delta_inducing pred: 0.96\n",
      "400_heinonen train: 39.79\n",
      "400_heinonen pred: 3.57\n",
      "400_delta_inducing train: 21.84\n",
      "400_delta_inducing pred: 0.88\n",
      "600_heinonen train: 68.83\n",
      "600_heinonen pred: 3.73\n",
      "600_delta_inducing train: 35.90\n",
      "600_delta_inducing pred: 1.08\n",
      "800_heinonen train: 103.27\n",
      "800_heinonen pred: 2.64\n",
      "800_delta_inducing train: 52.13\n",
      "800_delta_inducing pred: 0.99\n",
      "1000_heinonen train: 148.45\n",
      "1000_heinonen pred: 3.70\n",
      "1000_delta_inducing train: 74.13\n",
      "1000_delta_inducing pred: 0.90\n"
     ]
    }
   ],
   "source": [
    "train_results = {\"heinonen\": [], \"delta_inducing\": []}\n",
    "pred_results = {\"heinonen\": [], \"delta_inducing\": []}\n",
    "for n_points in n_points_list:\n",
    "    X_key = jax.random.PRNGKey(0)\n",
    "    X = jax.random.uniform(X_key, shape=(n_points, 1), minval=-3, maxval=3).sort(axis=0)\n",
    "    y, y_clean, ell, sigma, omega = generate_heinonen_gp_data(\n",
    "        X, latent_key, data_key, gen_flex_dict\n",
    "    )\n",
    "\n",
    "    # Normalize\n",
    "    # x_scaler = MinMaxScaler()\n",
    "    # X = x_scaler.fit_transform(X)\n",
    "    # xscale = x_scaler.data_max_ - x_scaler.data_min_\n",
    "    yscale = jnp.max(jnp.abs(y - jnp.mean(y)))\n",
    "    ymean = jnp.mean(y)\n",
    "    y = (y - ymean) / yscale\n",
    "\n",
    "    X_test = jnp.linspace(-4, 4, n_points*2).reshape(-1, 1)\n",
    "\n",
    "    for method in [\"heinonen\", \"delta_inducing\"]:\n",
    "        # Setup\n",
    "        value_and_grad_fn = partial(loss_fn, X=X, y=y, flex_dict=model_flex_dict, method=method)\n",
    "        partial_get_params = partial(\n",
    "            get_params, X=X, flex_dict=model_flex_dict, method=method, default=default_params\n",
    "        )\n",
    "        params = jax.vmap(partial_get_params)(jax.random.split(jax.random.PRNGKey(1000), 10))\n",
    "        partial_train_fn = partial(\n",
    "            train_fn, loss_fn=value_and_grad_fn, optimizer=optax.adam(0.001), n_iters=5000\n",
    "        )\n",
    "\n",
    "        value_and_grad_fn(jtu.tree_map(lambda x: x[0], params)) # Warmup\n",
    "        \n",
    "        # Train\n",
    "        train_init = time()\n",
    "        results = jax.vmap(partial_train_fn)(init_raw_params=params)\n",
    "        train_results[method].append(time() - train_init)\n",
    "        \n",
    "        best_idx = jnp.nanargmin(results[\"loss_history\"][:, -1])\n",
    "        result = jtu.tree_map(lambda x: x[best_idx], results)\n",
    "\n",
    "        # Predict\n",
    "        pred_init = time()\n",
    "        pred_mean, pred_var, pred_ell, pred_sigma, pred_omega = predict_fn(\n",
    "            result[\"raw_params\"],\n",
    "            X,\n",
    "            y,\n",
    "            X_test,\n",
    "            model_flex_dict,\n",
    "            method,\n",
    "        )\n",
    "        pred_results[method].append(time() - pred_init)\n",
    "        \n",
    "        print(f\"{n_points}_{method} train: {train_results[method][-1]:.2f}\")\n",
    "        print(f\"{n_points}_{method} pred: {pred_results[method][-1]:.2f}\")\n",
    "\n",
    "pd.to_pickle(train_results, \"results/train_results.pkl\")\n",
    "pd.to_pickle(pred_results, \"results/pred_results.pkl\")"
   ]
  },
  {
   "cell_type": "markdown",
   "metadata": {},
   "source": [
    "# Plot"
   ]
  },
  {
   "cell_type": "code",
   "execution_count": 7,
   "metadata": {},
   "outputs": [
    {
     "data": {
      "image/png": "[encoded data removed]",
      "text/plain": [
       "<Figure size 360x108 with 2 Axes>"
      ]
     },
     "metadata": {
      "needs_background": "light"
     },
     "output_type": "display_data"
    }
   ],
   "source": [
    "train_results = pd.read_pickle(\"results/train_results.pkl\")\n",
    "pred_results = pd.read_pickle(\"results/pred_results.pkl\")\n",
    "\n",
    "latexify(fig_width=5, fig_height=1.5)\n",
    "\n",
    "fig, ax = plt.subplots(1, 2)\n",
    "\n",
    "ax[0].plot(n_points_list, train_results[\"heinonen\"], \"-o\", label=\"Heinonen et al.\", markersize=3)\n",
    "ax[0].plot(n_points_list, train_results[\"delta_inducing\"], \"-o\", label=\"Ours\", markersize=3)\n",
    "ax[0].legend()\n",
    "ax[0].set_xlabel(\"Number of training points\")\n",
    "ax[0].set_title(\"Training time (s)\")\n",
    "\n",
    "ax[1].set_title(\"Prediction time (s)\")\n",
    "ax[1].set_xlabel(\"Number of training points\")\n",
    "ax[1].plot(n_points_list, pred_results[\"heinonen\"], \"-o\", label=\"Heinonen et al.\", markersize=3)\n",
    "ax[1].plot(n_points_list, pred_results[\"delta_inducing\"], \"-o\", label=\"Ours\", markersize=3);\n",
    "# ax[1].legend();\n",
    "\n",
    "fig.tight_layout()\n",
    "fig.savefig(f\"figures/timing_{latent_seed}_{data_seed}.pdf\")"
   ]
  },
  {
   "cell_type": "code",
   "execution_count": 6,
   "metadata": {},
   "outputs": [
    {
     "name": "stdout",
     "output_type": "stream",
     "text": [
      "jax       : 0.3.25\n",
      "matplotlib: 3.5.1\n",
      "sys       : 3.9.12 (main, Apr  5 2022, 06:56:58) \n",
      "[GCC 7.5.0]\n",
      "optax     : 0.1.3\n",
      "pandas    : 1.4.2\n",
      "\n"
     ]
    }
   ],
   "source": [
    "%watermark --iversion"
   ]
  }
 ],
 "metadata": {
  "kernelspec": {
   "display_name": "Python 3.9.12 ('jax_gpu')",
   "language": "python",
   "name": "python3"
  },
  "language_info": {
   "codemirror_mode": {
    "name": "ipython",
    "version": 3
   },
   "file_extension": ".py",
   "mimetype": "text/x-python",
   "name": "python",
   "nbconvert_exporter": "python",
   "pygments_lexer": "ipython3",
   "version": "3.9.12"
  },
  "orig_nbformat": 4,
  "vscode": {
   "interpreter": {
    "hash": "9052b22ca390d445be546c3044ec1d5126a8aeba9d3c8f88b3439e2169c91513"
   }
  }
 },
 "nbformat": 4,
 "nbformat_minor": 2
}
